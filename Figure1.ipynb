{
 "cells": [
  {
   "cell_type": "code",
   "execution_count": 17,
   "metadata": {},
   "outputs": [],
   "source": [
    "import numpy as np\n",
    "import ray\n",
    "import matplotlib.pyplot as plt\n",
    "import time\n",
    "from utils import *\n",
    "from procedures import *\n",
    "# https://albertcthomas.github.io/good-practices-random-number-generators/\n",
    "# plt.rcParams[\"font.sans-serif\"] = \"Arial Unicode MS\"\n",
    "plt.rcParams[\"font.sans-serif\"] = \"DejaVu Sans\"\n",
    "# plt.rcParams[\"axes.unicode_minus\"] = False\n",
    "# mlib.rc('xtick', labelsize=15) \n",
    "# mlib.rc('ytick', labelsize=15) \n",
    "plt.rcParams[\"mathtext.default\"]  = \"it\"\n",
    "plt.rcParams[\"mathtext.fontset\"]  = \"dejavusans\""
   ]
  },
  {
   "cell_type": "code",
   "execution_count": 2,
   "metadata": {},
   "outputs": [
    {
     "name": "stderr",
     "output_type": "stream",
     "text": [
      "2022-12-03 13:55:17,044\tINFO services.py:1274 -- View the Ray dashboard at \u001b[1m\u001b[32mhttp://127.0.0.1:8265\u001b[39m\u001b[22m\n"
     ]
    },
    {
     "data": {
      "text/plain": [
       "{'node_ip_address': '10.192.9.221',\n",
       " 'raylet_ip_address': '10.192.9.221',\n",
       " 'redis_address': '10.192.9.221:6379',\n",
       " 'object_store_address': 'tcp://127.0.0.1:60696',\n",
       " 'raylet_socket_name': 'tcp://127.0.0.1:55439',\n",
       " 'webui_url': '127.0.0.1:8265',\n",
       " 'session_dir': 'C:\\\\Users\\\\Admin\\\\AppData\\\\Local\\\\Temp\\\\ray\\\\session_2022-12-03_13-55-11_849303_34552',\n",
       " 'metrics_export_port': 58602,\n",
       " 'node_id': '70d6f02d671be0d356aa3018d79bde14ba3d642a23130054b05aa7eb'}"
      ]
     },
     "execution_count": 2,
     "metadata": {},
     "output_type": "execute_result"
    }
   ],
   "source": [
    "num_cpus=96\n",
    "ray.shutdown()\n",
    "ray.init(num_cpus=num_cpus, ignore_reinit_error=True)"
   ]
  },
  {
   "cell_type": "code",
   "execution_count": 3,
   "metadata": {},
   "outputs": [],
   "source": [
    "seed = 20221203\n",
    "np.random.seed(seed)\n",
    "n_replications =2000\n",
    "min_power = 2\n",
    "max_power = 12\n",
    "gamma = 0.1\n",
    "var = 0.25"
   ]
  },
  {
   "cell_type": "code",
   "execution_count": 4,
   "metadata": {},
   "outputs": [],
   "source": [
    "OCBA_results = []\n",
    "Greedy_results =  []"
   ]
  },
  {
   "cell_type": "code",
   "execution_count": 5,
   "metadata": {
    "scrolled": true
   },
   "outputs": [
    {
     "name": "stdout",
     "output_type": "stream",
     "text": [
      "--------New experiments with  n_0=100, n_1=0 and k=4----------------------\n",
      "Start to simulate...\n",
      "PCS:0.826, PGS:0.826\n",
      "Total time used: 1.459700584411621s\n",
      "--------New experiments with  n_0=1, n_1=99 and k=4----------------------\n",
      "Start to simulate...\n",
      "PCS:0.4475, PGS:0.4475\n",
      "Total time used: 1.4499468803405762s\n",
      "--------New experiments with  n_0=100, n_1=0 and k=8----------------------\n",
      "Start to simulate...\n",
      "PCS:0.7105, PGS:0.7105\n",
      "Total time used: 1.3807203769683838s\n",
      "--------New experiments with  n_0=1, n_1=99 and k=8----------------------\n",
      "Start to simulate...\n",
      "PCS:0.3365, PGS:0.3365\n",
      "Total time used: 1.4772531986236572s\n",
      "--------New experiments with  n_0=100, n_1=0 and k=16----------------------\n",
      "Start to simulate...\n",
      "PCS:0.561, PGS:0.561\n",
      "Total time used: 1.4792003631591797s\n",
      "--------New experiments with  n_0=1, n_1=99 and k=16----------------------\n",
      "Start to simulate...\n",
      "PCS:0.282, PGS:0.282\n",
      "Total time used: 1.5769336223602295s\n",
      "--------New experiments with  n_0=100, n_1=0 and k=32----------------------\n",
      "Start to simulate...\n",
      "PCS:0.39, PGS:0.39\n",
      "Total time used: 1.3992455005645752s\n",
      "--------New experiments with  n_0=1, n_1=99 and k=32----------------------\n",
      "Start to simulate...\n",
      "PCS:0.2805, PGS:0.2805\n",
      "Total time used: 2.0422041416168213s\n",
      "--------New experiments with  n_0=100, n_1=0 and k=64----------------------\n",
      "Start to simulate...\n",
      "PCS:0.2315, PGS:0.2315\n",
      "Total time used: 1.4119179248809814s\n",
      "--------New experiments with  n_0=1, n_1=99 and k=64----------------------\n",
      "Start to simulate...\n",
      "PCS:0.247, PGS:0.247\n",
      "Total time used: 3.3869853019714355s\n",
      "--------New experiments with  n_0=100, n_1=0 and k=128----------------------\n",
      "Start to simulate...\n",
      "PCS:0.0955, PGS:0.0955\n",
      "Total time used: 1.4284977912902832s\n",
      "--------New experiments with  n_0=1, n_1=99 and k=128----------------------\n",
      "Start to simulate...\n",
      "PCS:0.2385, PGS:0.2385\n",
      "Total time used: 6.673474550247192s\n",
      "--------New experiments with  n_0=100, n_1=0 and k=256----------------------\n",
      "Start to simulate...\n",
      "PCS:0.02, PGS:0.02\n",
      "Total time used: 1.3553662300109863s\n",
      "--------New experiments with  n_0=1, n_1=99 and k=256----------------------\n",
      "Start to simulate...\n",
      "PCS:0.2635, PGS:0.2635\n",
      "Total time used: 13.231421709060669s\n",
      "--------New experiments with  n_0=100, n_1=0 and k=512----------------------\n",
      "Start to simulate...\n",
      "PCS:0.002, PGS:0.002\n",
      "Total time used: 1.3251361846923828s\n",
      "--------New experiments with  n_0=1, n_1=99 and k=512----------------------\n",
      "Start to simulate...\n",
      "PCS:0.244, PGS:0.244\n",
      "Total time used: 26.516433715820312s\n",
      "--------New experiments with  n_0=100, n_1=0 and k=1024----------------------\n",
      "Start to simulate...\n",
      "PCS:0.0, PGS:0.0\n",
      "Total time used: 1.3495197296142578s\n",
      "--------New experiments with  n_0=1, n_1=99 and k=1024----------------------\n",
      "Start to simulate...\n",
      "PCS:0.227, PGS:0.227\n",
      "Total time used: 54.05968117713928s\n",
      "--------New experiments with  n_0=100, n_1=0 and k=2048----------------------\n",
      "Start to simulate...\n",
      "PCS:0.0, PGS:0.0\n",
      "Total time used: 1.7805030345916748s\n",
      "--------New experiments with  n_0=1, n_1=99 and k=2048----------------------\n",
      "Start to simulate...\n",
      "PCS:0.2355, PGS:0.2355\n",
      "Total time used: 111.24945068359375s\n",
      "--------New experiments with  n_0=100, n_1=0 and k=4096----------------------\n",
      "Start to simulate...\n",
      "PCS:0.0, PGS:0.0\n",
      "Total time used: 3.1573219299316406s\n",
      "--------New experiments with  n_0=1, n_1=99 and k=4096----------------------\n",
      "Start to simulate...\n",
      "PCS:0.245, PGS:0.245\n",
      "Total time used: 245.61468315124512s\n"
     ]
    }
   ],
   "source": [
    "rng = np.random.default_rng(seed)\n",
    "\n",
    "for power in np.arange(min_power, max_power+1):\n",
    "    generators = [SCCVGenerator(2**power, gamma, var) for i in range(n_replications)]\n",
    "    n = 100\n",
    "    PCS, PGS = parallel_experiments(rng,  generators, policy=OCBA, remote_policy=remote_OCBA,  \n",
    "                                n0=n, n1=0, test_time=False)\n",
    "    OCBA_results.append(PCS)\n",
    "    n0 = 1\n",
    "    n1 = 99\n",
    "    PCS, PGS = parallel_experiments(rng,  generators, policy=EFG, remote_policy=remote_EFG,  \n",
    "                                n0=n0, n1=n1, test_time=False)\n",
    "    Greedy_results.append(PCS)"
   ]
  },
  {
   "cell_type": "code",
   "execution_count": 18,
   "metadata": {},
   "outputs": [],
   "source": [
    "Greedy_results, OCBA_results = ([0.4475,\n",
    "  0.3365,\n",
    "  0.282,\n",
    "  0.2805,\n",
    "  0.247,\n",
    "  0.2385,\n",
    "  0.2635,\n",
    "  0.244,\n",
    "  0.227,\n",
    "  0.2355,\n",
    "  0.245],\n",
    " [0.826, 0.7105, 0.561, 0.39, 0.2315, 0.0955, 0.02, 0.002, 0.0, 0.0, 0.0])"
   ]
  },
  {
   "cell_type": "code",
   "execution_count": 19,
   "metadata": {},
   "outputs": [],
   "source": [
    "results = [Greedy_results, OCBA_results]"
   ]
  },
  {
   "cell_type": "code",
   "execution_count": 22,
   "metadata": {},
   "outputs": [],
   "source": [
    "labels = ['Greedy, $B=100k$', 'OCBA, $B=100k$']"
   ]
  },
  {
   "cell_type": "code",
   "execution_count": 23,
   "metadata": {},
   "outputs": [
    {
     "data": {
      "image/png": "[encoded data removed]",
      "text/plain": [
       "<Figure size 648x432 with 1 Axes>"
      ]
     },
     "metadata": {
      "needs_background": "light"
     },
     "output_type": "display_data"
    }
   ],
   "source": [
    "\n",
    "powers = np.arange(min_power, max_power+1)\n",
    "\n",
    "colors = [\"r\" ,\"b\", \"c\", \"m\", \"k\"]\n",
    "markers = [\"o\", \"s\", \"d\", \"p\", \"*\", \"D\"]\n",
    "line_styles = [\"-\", \"--\", \"-.\",\":\",'-']\n",
    "# https://matplotlib.org/stable/gallery/lines_bars_and_markers/linestyles.html\n",
    "threslines = [0.225, 0.313]\n",
    "fig = plt.figure(figsize=(9, 6))\n",
    "\n",
    "for i, result in enumerate(results[:4]):\n",
    "    plt.plot(powers, result, line_styles[i], marker=markers[i], markersize=12,  color=colors[i], label=labels[i])\n",
    "\n",
    "plt.xlim(min_power, max_power)\n",
    "xticks = np.arange(min_power, max_power+1)\n",
    "xticklabels = [\"2^{\"+str(power)+\"}\" for power in xticks]\n",
    "#xticklabels = [str(2 ** (power)) for power in xticks]\n",
    "xticklabels = [\"$\"+power_label+\"$\" for power_label in xticklabels]\n",
    "plt.xticks(powers, xticklabels,fontsize=18)\n",
    "\n",
    "min_result = np.min(results)\n",
    "max_result = np.max(results)\n",
    "\n",
    "min_level = (min_result // 0.1-1)*0.1\n",
    "max_level = (max_result // 0.1 + 1)*0.1\n",
    "\n",
    "plt.ylim(0,max_level)\n",
    "yticks = np.arange(0., max_level+0.1, 0.1)\n",
    "yticklabels = [\"%.0f\"%(tick*100)+\"%\" for tick in yticks]\n",
    "plt.yticks(yticks, yticklabels, fontsize=18)\n",
    "\n",
    "plt.legend(prop={'family': 'serif',\"size\":18})\n",
    "plt.xlabel(\"Number of alternatives $k$\", size=18)\n",
    "plt.ylabel(\"Estimated PCS\", size=18)\n",
    "# plt.title(\"Problem 1\")\n",
    "plt.grid(alpha=0.4)\n",
    "plt.savefig(\"CompareGreedyOCBA.pdf\", bbox_inches =\"tight\")\n",
    "plt.show()"
   ]
  },
  {
   "cell_type": "code",
   "execution_count": null,
   "metadata": {},
   "outputs": [],
   "source": []
  }
 ],
 "metadata": {
  "kernelspec": {
   "display_name": "Python 3",
   "language": "python",
   "name": "python3"
  },
  "language_info": {
   "codemirror_mode": {
    "name": "ipython",
    "version": 3
   },
   "file_extension": ".py",
   "mimetype": "text/x-python",
   "name": "python",
   "nbconvert_exporter": "python",
   "pygments_lexer": "ipython3",
   "version": "3.8.5"
  }
 },
 "nbformat": 4,
 "nbformat_minor": 4
}
