{
 "cells": [
  {
   "cell_type": "code",
   "execution_count": 1,
   "id": "0c5b9ead",
   "metadata": {},
   "outputs": [],
   "source": [
    "from utils import *\n",
    "from EFGPlusPlus import *\n",
    "from TpMaxSimulator import TpMaxSimulator"
   ]
  },
  {
   "cell_type": "code",
   "execution_count": null,
   "id": "61ceeb7d",
   "metadata": {},
   "outputs": [],
   "source": []
  },
  {
   "cell_type": "code",
   "execution_count": 3,
   "id": "e2ee5d54",
   "metadata": {
    "scrolled": false
   },
   "outputs": [
    {
     "name": "stdout",
     "output_type": "stream",
     "text": [
      "\n",
      " problem size: 41624, problem type: (45, 45) \n",
      "\n",
      "\n",
      "Total number of alternatives - 41624\n",
      "Seeding/Exploration/Greedy budget - B=20k, B=70k, B=10k\n",
      "Number of groups for seeding - 11\n",
      "Number of processors used - 40\n",
      "Greedy batch size in each processor - 1\n",
      "Total replications to conduct - 50\n",
      "Asyn version? False\n",
      "Initializing 40 processors...\n",
      "Initializing the processors takes 36.254s\n"
     ]
    },
    {
     "name": "stderr",
     "output_type": "stream",
     "text": [
      "100%|███████████████████████████████████████████████████████████████████████████████| 50/50 [2:45:52<00:00, 199.04s/it]\n"
     ]
    },
    {
     "name": "stdout",
     "output_type": "stream",
     "text": [
      "##### Utilization ratios for the stages: 99.20%, 99.60%, 46.71% #####\n",
      "##### Procedure utilization: 86.63% #####\n",
      "******* PCS: 0.6, PGS: 0.94 *******\n",
      "seeding time: 33.877 ± 0.008\n",
      "exploration time: 116.496 ± 0.045\n",
      "greedy time: 48.534 ± 0.036\n",
      "simulation time in seeding: 1344.237 ± 0.195\n",
      "simulation time in exploration: 4641.232 ± 1.551\n",
      "simulation time in greedy: 906.837 ± 1.477\n",
      "total time: 198.907 ± 0.062\n",
      "total simulation time: 6892.306 ± 1.847\n",
      "\n",
      "Total number of alternatives - 41624\n",
      "Seeding/Exploration/Greedy budget - B=20k, B=70k, B=10k\n",
      "Number of groups for seeding - 11\n",
      "Number of processors used - 40\n",
      "Greedy batch size in each processor - 1\n",
      "Total replications to conduct - 50\n",
      "Asyn version? True\n",
      "Initializing 40 processors...\n",
      "Initializing the processors takes 35.949s\n"
     ]
    },
    {
     "name": "stderr",
     "output_type": "stream",
     "text": [
      "100%|███████████████████████████████████████████████████████████████████████████████| 50/50 [2:47:03<00:00, 200.47s/it]\n"
     ]
    },
    {
     "name": "stdout",
     "output_type": "stream",
     "text": [
      "##### Utilization ratios for the stages: 99.18%, 99.57%, 40.48% #####\n",
      "##### Procedure utilization: 84.75% #####\n",
      "******* PCS: 0.46, PGS: 0.94 *******\n",
      "seeding time: 33.860 ± 0.011\n",
      "exploration time: 116.444 ± 0.032\n",
      "greedy time: 50.033 ± 0.186\n",
      "simulation time in seeding: 1343.252 ± 0.163\n",
      "simulation time in exploration: 4637.757 ± 0.997\n",
      "simulation time in greedy: 810.137 ± 0.115\n",
      "total time: 200.337 ± 0.204\n",
      "total simulation time: 6791.146 ± 1.081\n",
      "\n",
      "Total number of alternatives - 41624\n",
      "Seeding/Exploration/Greedy budget - B=20k, B=70k, B=10k\n",
      "Number of groups for seeding - 11\n",
      "Number of processors used - 40\n",
      "Greedy batch size in each processor - 10\n",
      "Total replications to conduct - 50\n",
      "Asyn version? False\n",
      "Initializing 40 processors...\n",
      "Initializing the processors takes 36.119s\n"
     ]
    },
    {
     "name": "stderr",
     "output_type": "stream",
     "text": [
      "100%|███████████████████████████████████████████████████████████████████████████████| 50/50 [2:24:59<00:00, 173.98s/it]\n"
     ]
    },
    {
     "name": "stdout",
     "output_type": "stream",
     "text": [
      "##### Utilization ratios for the stages: 99.18%, 99.57%, 80.45% #####\n",
      "##### Procedure utilization: 96.92% #####\n",
      "******* PCS: 0.58, PGS: 0.88 *******\n",
      "seeding time: 33.903 ± 0.013\n",
      "exploration time: 116.573 ± 0.038\n",
      "greedy time: 23.370 ± 0.013\n",
      "simulation time in seeding: 1345.067 ± 0.391\n",
      "simulation time in exploration: 4642.838 ± 1.241\n",
      "simulation time in greedy: 752.033 ± 0.151\n",
      "total time: 173.847 ± 0.055\n",
      "total simulation time: 6739.938 ± 1.653\n",
      "\n",
      "Total number of alternatives - 41624\n",
      "Seeding/Exploration/Greedy budget - B=20k, B=70k, B=10k\n",
      "Number of groups for seeding - 11\n",
      "Number of processors used - 40\n",
      "Greedy batch size in each processor - 10\n",
      "Total replications to conduct - 50\n",
      "Asyn version? True\n",
      "Initializing 40 processors...\n",
      "Initializing the processors takes 35.859s\n"
     ]
    },
    {
     "name": "stderr",
     "output_type": "stream",
     "text": [
      "100%|███████████████████████████████████████████████████████████████████████████████| 50/50 [2:21:11<00:00, 169.42s/it]\n"
     ]
    },
    {
     "name": "stdout",
     "output_type": "stream",
     "text": [
      "##### Utilization ratios for the stages: 99.17%, 99.56%, 99.48% #####\n",
      "##### Procedure utilization: 99.47% #####\n",
      "******* PCS: 0.74, PGS: 0.96 *******\n",
      "seeding time: 33.908 ± 0.015\n",
      "exploration time: 116.595 ± 0.040\n",
      "greedy time: 18.790 ± 0.074\n",
      "simulation time in seeding: 1345.064 ± 0.474\n",
      "simulation time in exploration: 4643.240 ± 1.593\n",
      "simulation time in greedy: 747.671 ± 2.995\n",
      "total time: 169.293 ± 0.087\n",
      "total simulation time: 6735.975 ± 3.579\n",
      "\n",
      "Total number of alternatives - 41624\n",
      "Seeding/Exploration/Greedy budget - B=20k, B=70k, B=10k\n",
      "Number of groups for seeding - 11\n",
      "Number of processors used - 40\n",
      "Greedy batch size in each processor - 20\n",
      "Total replications to conduct - 50\n",
      "Asyn version? False\n",
      "Initializing 40 processors...\n",
      "Initializing the processors takes 36.062s\n"
     ]
    },
    {
     "name": "stderr",
     "output_type": "stream",
     "text": [
      "100%|███████████████████████████████████████████████████████████████████████████████| 50/50 [2:23:26<00:00, 172.14s/it]\n"
     ]
    },
    {
     "name": "stdout",
     "output_type": "stream",
     "text": [
      "##### Utilization ratios for the stages: 99.15%, 99.61%, 86.20% #####\n",
      "##### Procedure utilization: 97.84% #####\n",
      "******* PCS: 0.64, PGS: 0.86 *******\n",
      "seeding time: 33.916 ± 0.016\n",
      "exploration time: 116.545 ± 0.054\n",
      "greedy time: 21.543 ± 0.014\n",
      "simulation time in seeding: 1345.120 ± 0.579\n",
      "simulation time in exploration: 4643.600 ± 1.870\n",
      "simulation time in greedy: 742.806 ± 0.196\n",
      "total time: 172.004 ± 0.078\n",
      "total simulation time: 6731.526 ± 2.543\n",
      "\n",
      "Total number of alternatives - 41624\n",
      "Seeding/Exploration/Greedy budget - B=20k, B=70k, B=10k\n",
      "Number of groups for seeding - 11\n",
      "Number of processors used - 40\n",
      "Greedy batch size in each processor - 20\n",
      "Total replications to conduct - 50\n",
      "Asyn version? True\n",
      "Initializing 40 processors...\n",
      "Initializing the processors takes 36.072s\n"
     ]
    },
    {
     "name": "stderr",
     "output_type": "stream",
     "text": [
      "100%|███████████████████████████████████████████████████████████████████████████████| 50/50 [2:21:04<00:00, 169.30s/it]\n"
     ]
    },
    {
     "name": "stdout",
     "output_type": "stream",
     "text": [
      "##### Utilization ratios for the stages: 99.18%, 99.61%, 99.77% #####\n",
      "##### Procedure utilization: 99.54% #####\n",
      "******* PCS: 0.74, PGS: 0.96 *******\n",
      "seeding time: 33.937 ± 0.009\n",
      "exploration time: 116.647 ± 0.018\n",
      "greedy time: 18.581 ± 0.004\n",
      "simulation time in seeding: 1346.362 ± 0.131\n",
      "simulation time in exploration: 4647.664 ± 0.305\n",
      "simulation time in greedy: 741.555 ± 0.130\n",
      "total time: 169.165 ± 0.022\n",
      "total simulation time: 6735.582 ± 0.449\n"
     ]
    }
   ],
   "source": [
    "from TpMaxSimulator import TpMaxSimulator\n",
    "seed = 2023080303\n",
    "n_reps = 50\n",
    "batch_sizes = [1, 10, 20]\n",
    "G = 11\n",
    "core_confs = [40]\n",
    "problem_type = (45, 45)\n",
    "nsd = 20\n",
    "n0 = 70\n",
    "ng = 10\n",
    "    \n",
    "rng = np.random.default_rng(seed+problem_type[0]+problem_type[1])\n",
    "slns, means = loadTPMax(problem_type[0], problem_type[1])\n",
    "print(\"\\n problem size: {}, problem type: {} \\n\".format(len(slns), problem_type))\n",
    "_njobs, _nstages, _burnin = 1050, 3, 1000\n",
    "# with time stop Uniform(0.5ms, 1.5ms)? No verify the PCS\n",
    "generator = TpMaxGeneratorPause(_njobs, _nstages, _burnin, slns, means, TpMaxSimulator)\n",
    "k = generator.syscount()\n",
    "\n",
    "for num_cores in core_confs:\n",
    "    for batch_size in batch_sizes:\n",
    "        is_asyn = False\n",
    "        _seed = rng.integers(1, 10e8)\n",
    "        results, phasetimeset, simutimeset = EFGPlusPlus(generator, nsd, n0, ng, G, num_cores, \n",
    "                                                              batch_size, n_reps, _seed, is_asyn)\n",
    "        process_result(generator, num_cores, results, phasetimeset, simutimeset)\n",
    "        is_asyn = True\n",
    "        _seed = rng.integers(1, 10e8)\n",
    "        results, phasetimeset, simutimeset = EFGPlusPlus(generator, nsd, n0, ng, G, num_cores, \n",
    "                                                              batch_size, n_reps, _seed, is_asyn)\n",
    "        process_result(generator, num_cores, results, phasetimeset, simutimeset)"
   ]
  },
  {
   "cell_type": "code",
   "execution_count": null,
   "id": "f6291aa5",
   "metadata": {},
   "outputs": [],
   "source": []
  },
  {
   "cell_type": "code",
   "execution_count": null,
   "id": "107de922",
   "metadata": {},
   "outputs": [],
   "source": []
  },
  {
   "cell_type": "code",
   "execution_count": null,
   "id": "86c31cfb",
   "metadata": {},
   "outputs": [],
   "source": []
  }
 ],
 "metadata": {
  "kernelspec": {
   "display_name": "Python 3 (ipykernel)",
   "language": "python",
   "name": "python3"
  },
  "language_info": {
   "codemirror_mode": {
    "name": "ipython",
    "version": 3
   },
   "file_extension": ".py",
   "mimetype": "text/x-python",
   "name": "python",
   "nbconvert_exporter": "python",
   "pygments_lexer": "ipython3",
   "version": "3.9.13"
  }
 },
 "nbformat": 4,
 "nbformat_minor": 5
}
