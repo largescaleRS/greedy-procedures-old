{
 "cells": [
  {
   "cell_type": "code",
   "execution_count": 1,
   "id": "19a4da82",
   "metadata": {},
   "outputs": [],
   "source": [
    "import numpy as np\n",
    "import ray\n",
    "import matplotlib.pyplot as plt\n",
    "import time\n",
    "from utils import *\n",
    "from procedures import *\n",
    "# https://albertcthomas.github.io/good-practices-random-number-generators/\n",
    "# plt.rcParams[\"font.sans-serif\"] = \"Arial Unicode MS\"\n",
    "plt.rcParams[\"font.sans-serif\"] = \"DejaVu Sans\"\n",
    "# plt.rcParams[\"axes.unicode_minus\"] = False\n",
    "# mlib.rc('xtick', labelsize=15) \n",
    "# mlib.rc('ytick', labelsize=15)\n",
    "plt.rcParams[\"mathtext.default\"]  = \"it\"\n",
    "plt.rcParams[\"mathtext.fontset\"]  = \"dejavusans\""
   ]
  },
  {
   "cell_type": "code",
   "execution_count": 2,
   "id": "09793ee4",
   "metadata": {},
   "outputs": [
    {
     "name": "stderr",
     "output_type": "stream",
     "text": [
      "2023-07-01 17:01:52,752\tINFO services.py:1274 -- View the Ray dashboard at \u001b[1m\u001b[32mhttp://127.0.0.1:8265\u001b[39m\u001b[22m\n"
     ]
    },
    {
     "data": {
      "text/plain": [
       "{'node_ip_address': '10.192.9.221',\n",
       " 'raylet_ip_address': '10.192.9.221',\n",
       " 'redis_address': '10.192.9.221:6379',\n",
       " 'object_store_address': 'tcp://127.0.0.1:64105',\n",
       " 'raylet_socket_name': 'tcp://127.0.0.1:65478',\n",
       " 'webui_url': '127.0.0.1:8265',\n",
       " 'session_dir': 'C:\\\\Users\\\\Admin\\\\AppData\\\\Local\\\\Temp\\\\ray\\\\session_2023-07-01_17-01-47_715878_21556',\n",
       " 'metrics_export_port': 64087,\n",
       " 'node_id': 'a70617b06a3235813bde238bc02687141c6abc6764f2cfa6a354295c'}"
      ]
     },
     "execution_count": 2,
     "metadata": {},
     "output_type": "execute_result"
    }
   ],
   "source": [
    "num_cpus=96\n",
    "ray.shutdown()\n",
    "ray.init(num_cpus=num_cpus, ignore_reinit_error=True)"
   ]
  },
  {
   "cell_type": "code",
   "execution_count": null,
   "id": "207289df",
   "metadata": {},
   "outputs": [],
   "source": []
  },
  {
   "cell_type": "code",
   "execution_count": 3,
   "id": "0d8b9677",
   "metadata": {},
   "outputs": [],
   "source": [
    "from TpMaxSimulator import TpMaxSimulator"
   ]
  },
  {
   "cell_type": "code",
   "execution_count": 4,
   "id": "d4b38991",
   "metadata": {},
   "outputs": [],
   "source": [
    "recipe = [30, 50, 100, 200]\n",
    "n_recipe = len(recipe)\n",
    "n_replications = 500\n",
    "G = 11\n",
    "_njobs, _nstages, _burnin = 1050, 3, 1000"
   ]
  },
  {
   "cell_type": "code",
   "execution_count": 5,
   "id": "ddd93196",
   "metadata": {},
   "outputs": [],
   "source": [
    "SH_results = []"
   ]
  },
  {
   "cell_type": "code",
   "execution_count": 6,
   "id": "0663b2e8",
   "metadata": {
    "scrolled": false
   },
   "outputs": [
    {
     "name": "stdout",
     "output_type": "stream",
     "text": [
      "problem size:3249\n",
      "Sequential Halving with n:30\n",
      "--------New experiments with  k=3249----------------------\n",
      "Start to simulate... at Sat Jul  1 17:02:06 2023\n",
      "PCS:0.482, PGS:0.976\n",
      "Total time used: 87.10181379318237s, simulation ends at Sat Jul  1 17:03:33 2023\n",
      "Sequential Halving with n:50\n",
      "--------New experiments with  k=3249----------------------\n",
      "Start to simulate... at Sat Jul  1 17:03:33 2023\n",
      "PCS:0.574, PGS:0.994\n",
      "Total time used: 146.85943341255188s, simulation ends at Sat Jul  1 17:06:00 2023\n",
      "Sequential Halving with n:100\n",
      "--------New experiments with  k=3249----------------------\n",
      "Start to simulate... at Sat Jul  1 17:06:00 2023\n",
      "PCS:0.632, PGS:1.0\n",
      "Total time used: 293.76562428474426s, simulation ends at Sat Jul  1 17:10:53 2023\n",
      "Sequential Halving with n:200\n",
      "--------New experiments with  k=3249----------------------\n",
      "Start to simulate... at Sat Jul  1 17:10:54 2023\n",
      "PCS:0.688, PGS:1.0\n",
      "Total time used: 589.7500927448273s, simulation ends at Sat Jul  1 17:20:43 2023\n",
      "problem size:11774\n",
      "Sequential Halving with n:30\n",
      "--------New experiments with  k=11774----------------------\n",
      "Start to simulate... at Sat Jul  1 17:20:44 2023\n",
      "PCS:0.41, PGS:0.9\n",
      "Total time used: 318.90592193603516s, simulation ends at Sat Jul  1 17:26:02 2023\n",
      "Sequential Halving with n:50\n",
      "--------New experiments with  k=11774----------------------\n",
      "Start to simulate... at Sat Jul  1 17:26:03 2023\n",
      "PCS:0.438, PGS:0.956\n",
      "Total time used: 525.6585018634796s, simulation ends at Sat Jul  1 17:34:48 2023\n",
      "Sequential Halving with n:100\n",
      "--------New experiments with  k=11774----------------------\n",
      "Start to simulate... at Sat Jul  1 17:34:48 2023\n",
      "PCS:0.522, PGS:0.978\n",
      "Total time used: 1063.3414573669434s, simulation ends at Sat Jul  1 17:52:31 2023\n",
      "Sequential Halving with n:200\n",
      "--------New experiments with  k=11774----------------------\n",
      "Start to simulate... at Sat Jul  1 17:52:32 2023\n",
      "PCS:0.596, PGS:1.0\n",
      "Total time used: 2119.0154435634613s, simulation ends at Sat Jul  1 18:27:50 2023\n",
      "problem size:27434\n",
      "Sequential Halving with n:30\n",
      "--------New experiments with  k=27434----------------------\n",
      "Start to simulate... at Sat Jul  1 18:27:51 2023\n",
      "PCS:0.46, PGS:0.962\n",
      "Total time used: 734.5625033378601s, simulation ends at Sat Jul  1 18:40:05 2023\n",
      "Sequential Halving with n:50\n",
      "--------New experiments with  k=27434----------------------\n",
      "Start to simulate... at Sat Jul  1 18:40:06 2023\n",
      "PCS:0.538, PGS:0.99\n",
      "Total time used: 1214.9531979560852s, simulation ends at Sat Jul  1 19:00:20 2023\n",
      "Sequential Halving with n:100\n",
      "--------New experiments with  k=27434----------------------\n",
      "Start to simulate... at Sat Jul  1 19:00:21 2023\n",
      "PCS:0.606, PGS:0.994\n",
      "Total time used: 2431.3908035755157s, simulation ends at Sat Jul  1 19:40:51 2023\n",
      "Sequential Halving with n:200\n",
      "--------New experiments with  k=27434----------------------\n",
      "Start to simulate... at Sat Jul  1 19:40:52 2023\n",
      "PCS:0.698, PGS:1.0\n",
      "Total time used: 4882.875159740448s, simulation ends at Sat Jul  1 21:02:14 2023\n",
      "problem size:41624\n",
      "Sequential Halving with n:30\n",
      "--------New experiments with  k=41624----------------------\n",
      "Start to simulate... at Sat Jul  1 21:02:15 2023\n",
      "PCS:0.582, PGS:0.918\n",
      "Total time used: 1067.971296787262s, simulation ends at Sat Jul  1 21:20:02 2023\n",
      "Sequential Halving with n:50\n",
      "--------New experiments with  k=41624----------------------\n",
      "Start to simulate... at Sat Jul  1 21:20:03 2023\n",
      "PCS:0.62, PGS:0.956\n",
      "Total time used: 1844.218450307846s, simulation ends at Sat Jul  1 21:50:46 2023\n",
      "Sequential Halving with n:100\n",
      "--------New experiments with  k=41624----------------------\n",
      "Start to simulate... at Sat Jul  1 21:50:47 2023\n",
      "PCS:0.688, PGS:0.964\n",
      "Total time used: 3684.781261920929s, simulation ends at Sat Jul  1 22:52:11 2023\n",
      "Sequential Halving with n:200\n",
      "--------New experiments with  k=41624----------------------\n",
      "Start to simulate... at Sat Jul  1 22:52:12 2023\n",
      "PCS:0.75, PGS:0.99\n",
      "Total time used: 7389.234368562698s, simulation ends at Sun Jul  2 00:55:20 2023\n"
     ]
    }
   ],
   "source": [
    "problem_types = [(20, 20), (30, 30), (45, 30), (45, 45)]\n",
    "seed = 20230701\n",
    "np.random.seed(seed)\n",
    "rng = np.random.default_rng(seed)\n",
    "for problem_type in problem_types:\n",
    "    slns, means = loadTPMax(problem_type[0], problem_type[1])\n",
    "    print(\"problem size:{}\".format(len(slns)))\n",
    "    generators = [TpMaxGenerator(_njobs, _nstages, _burnin, slns, means, TpMaxSimulator) for i in range(n_replications)]\n",
    "    for i in range(n_recipe):\n",
    "        n = recipe[i]\n",
    "        print(\"Sequential Halving with n:{}\".format(n))\n",
    "        PCS, PGS = parallel_experiments(rng,  generators, policy=SH, remote_policy=remote_SH,  args={\"n\":n})\n",
    "        SH_results.append([PCS,PGS])"
   ]
  }
 ],
 "metadata": {
  "kernelspec": {
   "display_name": "Python 3 (ipykernel)",
   "language": "python",
   "name": "python3"
  },
  "language_info": {
   "codemirror_mode": {
    "name": "ipython",
    "version": 3
   },
   "file_extension": ".py",
   "mimetype": "text/x-python",
   "name": "python",
   "nbconvert_exporter": "python",
   "pygments_lexer": "ipython3",
   "version": "3.9.13"
  }
 },
 "nbformat": 4,
 "nbformat_minor": 5
}
